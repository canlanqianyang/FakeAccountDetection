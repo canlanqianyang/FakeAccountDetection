{
 "cells": [
  {
   "cell_type": "code",
   "execution_count": 17,
   "metadata": {},
   "outputs": [
    {
     "name": "stdout",
     "output_type": "stream",
     "text": [
      "[1 1 1 0 0 0 0 0 1 0 0 0 0 0 0 0 0 0 0 0 0 0 0 0 0 0 0 0 0 0 0 0 0 0 0 0 0\n",
      " 0 0 0 0 0 0 0 0 0 0 0 0 0 0 0 0 0 0 0 0 0 0 0 0 0 0 0]\n",
      "[0 0 0 1 0 0 0 1 1 1 1 0 0 0 1 1 0 0 0 0 1 1 0 0 0 0 1 1 1 1 1 0 1 0 0 0 0\n",
      " 0 0 0 0 0 0 0]\n"
     ]
    }
   ],
   "source": [
    "%matplotlib inline\n",
    "import matplotlib.pyplot as plt\n",
    "import numpy as np\n",
    "import pandas as pd\n",
    "from sklearn import svm\n",
    "from sklearn.model_selection import train_test_split\n",
    "\n",
    "data=pd.read_csv('data/trainData.txt')\n",
    "predData=pd.read_csv('data/predData.txt')\n",
    "#data.fillna(0,inplace=True)\n",
    "#fans_data=data[['is_spammer','followers_count','follow_count','post_count','hot_blog_count']].values\n",
    "pred_fans_data=predData[['followers_count','follow_count']].values\n",
    "#pred_fans_data=predData[['followers_count','follow_count','post_count','hot_blog_count']].values\n",
    "y=data['is_spammer'].values\n",
    "print(y)\n",
    "X=data[['followers_count','follow_count']].values\n",
    "#X=data[['followers_count','follow_count','post_count','hot_blog_count']].values\n",
    "\n",
    "#x_train, x_test, y_train, y_test = train_test_split(X, y, random_state=1, train_size=0.6)\n",
    "clf = svm.SVC(C=0.8, kernel='linear', gamma=10, decision_function_shape='ovr')\n",
    "clf.fit(X,y)\n",
    "pred_result=clf.predict(pred_fans_data)\n",
    "predData['is_spammer']=pred_result\n",
    "print(pred_result)\n",
    "predData.to_csv('data/predResult.txt', header=True, index=None, sep=';', mode='w')\n",
    "#clf.fit(x_train, y_train.ravel())\n",
    "#print(clf.score(x_train, y_train))  # 精度\n",
    "# y_hat = clf.predict(x_train)\n",
    "# show_accuracy(y_hat, y_train, '训练集')\n",
    "#print(clf.score(x_test, y_test))\n",
    "# y_hat = clf.predict(x_test)\n",
    "# show_accuracy(y_hat, y_test, '测试集')"
   ]
  },
  {
   "cell_type": "code",
   "execution_count": null,
   "metadata": {},
   "outputs": [],
   "source": [
    "[0 0 0 1 0 0 0 1 1 1 1 0 0 0 1 1 0 0 0 0 1 1 0 0 0 0 1 1 1 1 1 0 1 0 0 0 0\n",
    " 0 0 0 0 0 0 0]"
   ]
  }
 ],
 "metadata": {
  "kernelspec": {
   "display_name": "Python 3",
   "language": "python",
   "name": "python3"
  },
  "language_info": {
   "codemirror_mode": {
    "name": "ipython",
    "version": 3
   },
   "file_extension": ".py",
   "mimetype": "text/x-python",
   "name": "python",
   "nbconvert_exporter": "python",
   "pygments_lexer": "ipython3",
   "version": "3.6.6"
  }
 },
 "nbformat": 4,
 "nbformat_minor": 2
}
