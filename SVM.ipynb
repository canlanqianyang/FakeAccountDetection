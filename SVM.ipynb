{
 "cells": [
  {
   "cell_type": "code",
   "execution_count": 8,
   "metadata": {},
   "outputs": [],
   "source": [
    "%matplotlib inline\n",
    "import matplotlib.pyplot as plt\n",
    "import numpy as np\n",
    "import pandas as pd\n",
    "from sklearn import svm\n",
    "from sklearn.model_selection import train_test_split\n",
    "from sklearn.svm import LinearSVC\n",
    "from sklearn.feature_selection import SelectFromModel\n",
    "\n",
    "data=pd.read_csv('data/trainFans0.txt')\n",
    "predData=pd.read_csv('data/trainFans10.txt',sep=';')\n",
    "#data.fillna(0,inplace=True)\n",
    "#fans_data=data[['is_spammer','followers_count','follow_count','post_count','hot_blog_count']].values\n",
    "pred_fans_data=predData[['followers_count','follow_count','post_count']].values\n",
    "#pred_fans_data=predData[['followers_count','follow_count','post_count','hot_blog_count']].values\n",
    "#y=data[['favourites_count','bi_followers_count','user_ability']].values\n",
    "y=data['favourites_count'].values\n",
    "X=data[['followers_count','follow_count','post_count']].values\n",
    "#X=data[['followers_count','follow_count','post_count','hot_blog_count']].values\n",
    "#lsvc = LinearSVC(C=0.01, penalty=\"l1\", dual=False).fit(X, y)\n",
    "# model = SelectFromModel(lsvc, prefit=True)\n",
    "# X_new = model.transform(X)\n",
    "# print(X_new)\n",
    "#x_train, x_test, y_train, y_test = train_test_split(X, y, random_state=1, train_size=0.6)\n",
    "clf1 = svm.SVC(C=0.8, kernel='linear', gamma=10, decision_function_shape='ovr')\n",
    "clf1.fit(X,y1)\n",
    "pred_result1=clf1.predict(pred_fans_data)\n",
    "predData['favourites_count']=pred_result1\n",
    "clf2 = svm.SVC(C=0.8, kernel='linear', gamma=10, decision_function_shape='ovr')\n",
    "clf2.fit(X,y2)\n",
    "pred_result2=clf1.predict(pred_fans_data)\n",
    "predData['bi_followers_count']=pred_result2\n",
    "clf3 = svm.SVC(C=0.8, kernel='linear', gamma=10, decision_function_shape='ovr')\n",
    "clf3.fit(X,y3)\n",
    "pred_result3=clf1.predict(pred_fans_data)\n",
    "predData['user_ability']=pred_result3\n",
    "# print(pred_result)\n",
    "# spammer = predData['is_spammer']\n",
    "# predData.drop(labels=['is_spammer'], axis=1,inplace = True)\n",
    "# predData.insert(0, 'is_spammer', spammer)\n",
    "# predData['favourites_count']=0\n",
    "# predData['bi_followers_count']=0\n",
    "# predData['user_ability']=0\n",
    "predData.to_csv('data/trainFans10.txt', header=True, index=None, sep=';', mode='w')\n",
    "#clf.fit(x_train, y_train.ravel())\n",
    "#print(clf.score(x_train, y_train))  # 精度\n",
    "# y_hat = clf.predict(x_train)\n",
    "#show_accuracy(y_hat, y_train, '训练集')\n",
    "#print(clf.score(x_test, y_test))\n",
    "# y_hat = clf.predict(x_test)\n",
    "#show_accuracy(y_hat, y_test, '测试集')"
   ]
  },
  {
   "cell_type": "code",
   "execution_count": 3,
   "metadata": {},
   "outputs": [
    {
     "name": "stderr",
     "output_type": "stream",
     "text": [
      "d:\\python\\lib\\site-packages\\sklearn\\ensemble\\forest.py:246: FutureWarning: The default value of n_estimators will change from 10 in version 0.20 to 100 in 0.22.\n",
      "  \"10 in version 0.20 to 100 in 0.22.\", FutureWarning)\n"
     ]
    },
    {
     "data": {
      "text/plain": [
       "array([0.        , 0.13011763, 0.09445734, 0.24572062, 0.03274588,\n",
       "       0.08382322, 0.18805174, 0.13692918, 0.08815439])"
      ]
     },
     "execution_count": 3,
     "metadata": {},
     "output_type": "execute_result"
    }
   ],
   "source": [
    "from sklearn.ensemble import ExtraTreesClassifier\n",
    "clf = ExtraTreesClassifier()\n",
    "clf = clf.fit(X, y)\n",
    "clf.feature_importances_"
   ]
  },
  {
   "cell_type": "code",
   "execution_count": 5,
   "metadata": {},
   "outputs": [
    {
     "data": {
      "image/png": "[encoded data removed]",
      "text/plain": [
       "<Figure size 1440x720 with 1 Axes>"
      ]
     },
     "metadata": {
      "needs_background": "light"
     },
     "output_type": "display_data"
    }
   ],
   "source": [
    "import matplotlib.pyplot as plt\n",
    "\n",
    "def featureVis(regressor, train_feature):\n",
    "    importances = regressor.feature_importances_\n",
    "    indices = np.argsort(importances)[::-1]\n",
    "    selected_features = [train_feature[e] for e in indices]\n",
    "    plt.figure(figsize=(20, 10))\n",
    "    plt.title(\"train_feature importances\")\n",
    "    plt.bar(range(len(train_feature)), importances[indices],align=\"center\")\n",
    "    plt.xticks(range(len(selected_features)), selected_features, rotation=70)\n",
    "    plt.show()\n",
    "\n",
    "train_feature = ['verified','followers_count','follow_count','post_count','favourites_count','bi_followers_count','user_ability','followRatio','friendRatio']\n",
    "featureVis(clf,train_feature)"
   ]
  },
  {
   "cell_type": "code",
   "execution_count": 9,
   "metadata": {},
   "outputs": [
    {
     "data": {
      "text/plain": [
       "(664, 4)"
      ]
     },
     "execution_count": 9,
     "metadata": {},
     "output_type": "execute_result"
    }
   ],
   "source": [
    "model = SelectFromModel(clf, prefit=True)\n",
    "X_new = model.transform(X)\n",
    "X_new.shape"
   ]
  },
  {
   "cell_type": "code",
   "execution_count": 12,
   "metadata": {},
   "outputs": [
    {
     "name": "stdout",
     "output_type": "stream",
     "text": [
      "测试结果： {'fit_time': array([0.0100069 , 0.03125191, 0.0469451 , 0.03132129, 0.04688334]), 'score_time': array([0.00411177, 0.01562715, 0.        , 0.03120661, 0.0156436 ]), 'test_precision_macro': array([0.88255495, 0.83642857, 0.85863095, 0.94303632, 0.90981508]), 'train_precision_macro': array([0.99736842, 1.        , 1.        , 0.9973822 , 0.9973822 ]), 'test_recall_macro': array([0.90479651, 0.84229651, 0.86195244, 0.92440551, 0.86057572]), 'train_recall_macro': array([0.99853372, 1.        , 1.        , 0.99853801, 0.99853801]), 'test_f1_macro': array([0.89000938, 0.83913565, 0.86023046, 0.93256705, 0.87777778]), 'train_f1_macro': array([0.99794652, 1.        , 1.        , 0.9979556 , 0.9979556 ])}\n"
     ]
    }
   ],
   "source": [
    "from sklearn.model_selection import train_test_split,cross_val_score,cross_validate # 交叉验证所需的函数\n",
    "scoring = ['precision_macro', 'recall_macro','f1_macro'] # precision_macro为精度，recall_macro为召回率\n",
    "scores = cross_validate(clf, X, y, scoring=scoring,cv=5, return_train_score=True)\n",
    "sorted(scores.keys())\n",
    "print('测试结果：',scores)"
   ]
  },
  {
   "cell_type": "code",
   "execution_count": 2,
   "metadata": {},
   "outputs": [
    {
     "name": "stdout",
     "output_type": "stream",
     "text": [
      "测试结果： {'fit_time': array([0.01398635, 0.01000285, 0.00900674, 0.00900698, 0.00900674]), 'score_time': array([0.00200129, 0.00200558, 0.0010004 , 0.00100064, 0.00200272]), 'test_precision_macro': array([0.88428571, 0.79001976, 0.80902439, 0.8125    , 0.81847826]), 'train_precision_macro': array([0.97493123, 0.97944111, 0.98181988, 0.99008639, 0.98362573])}\n"
     ]
    },
    {
     "name": "stderr",
     "output_type": "stream",
     "text": [
      "d:\\python\\lib\\site-packages\\sklearn\\ensemble\\forest.py:246: FutureWarning: The default value of n_estimators will change from 10 in version 0.20 to 100 in 0.22.\n",
      "  \"10 in version 0.20 to 100 in 0.22.\", FutureWarning)\n"
     ]
    }
   ],
   "source": [
    "%matplotlib inline\n",
    "import matplotlib.pyplot as plt\n",
    "import numpy as np\n",
    "import pandas as pd\n",
    "from sklearn import svm\n",
    "from sklearn.model_selection import train_test_split\n",
    "from sklearn.svm import LinearSVC\n",
    "from sklearn.feature_selection import SelectFromModel\n",
    "from sklearn.model_selection import train_test_split,cross_val_score,cross_validate # 交叉验证所需的函数\n",
    "from sklearn.ensemble import ExtraTreesClassifier\n",
    "\n",
    "data=pd.read_csv('data/trainFans0.txt')\n",
    "X=data[['followers_count','follow_count','favourites_count','bi_followers_count','user_ability','followRatio','friendRatio']].values\n",
    "y=data['is_spammer'].values\n",
    "clf = ExtraTreesClassifier()\n",
    "clf = clf.fit(X, y)\n",
    "scoring = ['precision_macro'] # precision_macro为精度，recall_macro为召回率\n",
    "scores = cross_validate(clf, X, y, scoring=scoring,cv=5, return_train_score=True)\n",
    "sorted(scores.keys())\n",
    "print('测试结果：',scores)"
   ]
  },
  {
   "cell_type": "code",
   "execution_count": 3,
   "metadata": {},
   "outputs": [],
   "source": [
    "%matplotlib inline\n",
    "import matplotlib.pyplot as plt\n",
    "import numpy as np\n",
    "import pandas as pd\n",
    "from sklearn import svm\n",
    "from sklearn.model_selection import train_test_split\n",
    "from sklearn.svm import LinearSVC\n",
    "from sklearn.feature_selection import SelectFromModel\n",
    "from sklearn.linear_model import LinearRegression\n",
    "\n",
    "data=pd.read_csv('data/trainFans0.txt')\n",
    "predData=pd.read_csv('data/trainFans10.txt',sep=';')\n",
    "#data.fillna(0,inplace=True)\n",
    "#fans_data=data[['is_spammer','followers_count','follow_count','post_count','hot_blog_count']].values\n",
    "pred_fans_data=predData[['followers_count','follow_count','post_count']].values\n",
    "#pred_fans_data=predData[['followers_count','follow_count','post_count','hot_blog_count']].values\n",
    "#y=data[['favourites_count','bi_followers_count','user_ability']].values\n",
    "y=data['favourites_count'].values\n",
    "X=data[['followers_count','follow_count','post_count']].values\n",
    "lr = LinearRegression()\n",
    "lr.fit(X,y)\n",
    "pred_result=lr.predict(pred_fans_data)\n",
    "predData['favourites_count']=pred_result\n",
    "# print(pred_result)\n",
    "# spammer = predData['is_spammer']\n",
    "# predData.drop(labels=['is_spammer'], axis=1,inplace = True)\n",
    "# predData.insert(0, 'is_spammer', spammer)\n",
    "# predData['favourites_count']=0\n",
    "# predData['bi_followers_count']=0\n",
    "# predData['user_ability']=0\n",
    "predData.to_csv('data/trainFans10.txt', header=True, index=None, mode='w')"
   ]
  },
  {
   "cell_type": "code",
   "execution_count": 5,
   "metadata": {},
   "outputs": [
    {
     "name": "stdout",
     "output_type": "stream",
     "text": [
      "427\n",
      "237\n"
     ]
    }
   ],
   "source": [
    "data=pd.read_csv('data/trainFans0.txt')\n",
    "spaNum=0\n",
    "norNum=0\n",
    "for i in range(len(data)):\n",
    "    if data['is_spammer'][i]==1:\n",
    "        spaNum=spaNum+1\n",
    "    if data['is_spammer'][i]==0:\n",
    "        norNum=norNum+1\n",
    "print(spaNum)\n",
    "print(norNum)"
   ]
  },
  {
   "cell_type": "code",
   "execution_count": null,
   "metadata": {},
   "outputs": [],
   "source": []
  }
 ],
 "metadata": {
  "kernelspec": {
   "display_name": "Python 3",
   "language": "python",
   "name": "python3"
  },
  "language_info": {
   "codemirror_mode": {
    "name": "ipython",
    "version": 3
   },
   "file_extension": ".py",
   "mimetype": "text/x-python",
   "name": "python",
   "nbconvert_exporter": "python",
   "pygments_lexer": "ipython3",
   "version": "3.6.6"
  }
 },
 "nbformat": 4,
 "nbformat_minor": 2
}
